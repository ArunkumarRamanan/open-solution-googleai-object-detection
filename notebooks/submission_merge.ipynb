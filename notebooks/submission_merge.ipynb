{
 "cells": [
  {
   "cell_type": "code",
   "execution_count": null,
   "metadata": {},
   "outputs": [],
   "source": [
    "import os\n",
    "\n",
    "from tqdm import tqdm_notebook as tqdm\n",
    "import glob\n",
    "from collections import defaultdict\n",
    "from typing import Sequence\n",
    "import pandas as pd\n",
    "\n",
    "EXPERIMENT_DIRPATH = '/mnt/ml-team/minerva/open-solutions/googleai-object-detection/kuba/models'\n",
    "SAMPLE_SUBMISSION_FILEPATH = '/mnt/ml-team/minerva/open-solutions/googleai-object-detection/data/sample_submission.csv'"
   ]
  },
  {
   "cell_type": "code",
   "execution_count": null,
   "metadata": {},
   "outputs": [],
   "source": [
    "def merge_submissions(submissions: Sequence[pd.DataFrame]) -> pd.DataFrame:\n",
    "    sub_dict = defaultdict(lambda: [])\n",
    "    merged_sub = defaultdict(lambda: [])\n",
    "    for sub in submissions:\n",
    "        for _, row in sub.iterrows():\n",
    "            pred_string = str(row['PredictionString'])\n",
    "            sub_dict[row['ImageId']]\n",
    "            if 'nan' not in pred_string:\n",
    "                sub_dict[row['ImageId']].append(pred_string)\n",
    "    for key, value in sub_dict.items():\n",
    "        merged_sub['ImageId'].append(key)\n",
    "        merged_sub['PredictionString'].append(' '.join(value))\n",
    "    final_sub = pd.DataFrame.from_dict(merged_sub)\n",
    "    return final_sub"
   ]
  },
  {
   "cell_type": "code",
   "execution_count": null,
   "metadata": {},
   "outputs": [],
   "source": [
    "batch_submissions = []\n",
    "for filepath in glob.glob('{}/batch_*/submission.csv'.format(EXPERIMENT_DIRPATH)):\n",
    "    print('Processing {}'.format(filepath))\n",
    "    batch_submission = pd.read_csv(filepath)\n",
    "    batch_submissions.append(batch_submission)"
   ]
  },
  {
   "cell_type": "code",
   "execution_count": null,
   "metadata": {},
   "outputs": [],
   "source": [
    "submission = merge_submissions(batch_submissions)\n",
    "submission.head()"
   ]
  },
  {
   "cell_type": "markdown",
   "metadata": {},
   "source": [
    "# Fix those that have bbox with xmin <= xmax and stuff"
   ]
  },
  {
   "cell_type": "code",
   "execution_count": null,
   "metadata": {},
   "outputs": [],
   "source": [
    "def chunker(seq, size):\n",
    "    return (seq[pos:pos + size] for pos in range(0, len(seq), size))\n",
    "\n",
    "def clean_submission(submission):\n",
    "    ids_cleaned , predictions_cleaned = [], []\n",
    "    for i, row in tqdm(submission.iterrows(), total = len(submission)):\n",
    "        img_predictions = row.PredictionString.split(' ')\n",
    "        if img_predictions == ['']:\n",
    "            continue\n",
    "        else:\n",
    "            img_predictions_cleaned = []\n",
    "            for pred in chunker(img_predictions,size=6):\n",
    "                label,score,x1,y1,x2,y2 = pred\n",
    "                x1,y1,x2,y2 = float(x1),float(y1),float(x2),float(y2)\n",
    "                if x2 <= x1 or y2 <= y1:\n",
    "                    continue\n",
    "                else:\n",
    "                    img_predictions_cleaned.extend(pred)\n",
    "            img_predictions_cleaned = ' '.join(img_predictions_cleaned)\n",
    "            predictions_cleaned.append(img_predictions_cleaned)\n",
    "            ids_cleaned.append(row.ImageId)\n",
    "    submission_fixed = pd.DataFrame({'ImageId': ids_cleaned, \n",
    "                                     'PredictionString':predictions_cleaned})\n",
    "    return submission_fixed"
   ]
  },
  {
   "cell_type": "code",
   "execution_count": null,
   "metadata": {},
   "outputs": [],
   "source": [
    "submission = clean_submission(submission)"
   ]
  },
  {
   "cell_type": "code",
   "execution_count": null,
   "metadata": {},
   "outputs": [],
   "source": [
    "def add_missing_image_ids(submission, sample_submission):\n",
    "    submission['ImageId'] = submission['ImageId'].astype(str)\n",
    "    sample_submission['ImageId'] = sample_submission['ImageId'].astype(str)\n",
    "    fixed_submission = pd.merge(sample_submission[['ImageId']], submission, on=['ImageId'], how='outer')\n",
    "    return fixed_submission"
   ]
  },
  {
   "cell_type": "code",
   "execution_count": null,
   "metadata": {},
   "outputs": [],
   "source": [
    "sample_submission = pd.read_csv(SAMPLE_SUBMISSION_FILEPATH)\n",
    "submission = add_missing_image_ids(submission, sample_submission)"
   ]
  },
  {
   "cell_type": "code",
   "execution_count": null,
   "metadata": {},
   "outputs": [],
   "source": [
    "submission.to_csv(os.path.join(EXPERIMENT_DIRPATH,'merged_submission.csv'), index=False)"
   ]
  },
  {
   "cell_type": "code",
   "execution_count": null,
   "metadata": {},
   "outputs": [],
   "source": []
  }
 ],
 "metadata": {
  "kernelspec": {
   "display_name": "cpu py3",
   "language": "python",
   "name": "cpu_py3"
  },
  "language_info": {
   "codemirror_mode": {
    "name": "ipython",
    "version": 3
   },
   "file_extension": ".py",
   "mimetype": "text/x-python",
   "name": "python",
   "nbconvert_exporter": "python",
   "pygments_lexer": "ipython3",
   "version": "3.5.2"
  }
 },
 "nbformat": 4,
 "nbformat_minor": 2
}
